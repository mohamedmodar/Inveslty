{
 "cells": [
  {
   "cell_type": "code",
   "execution_count": 6,
   "metadata": {
    "_cell_guid": "b1076dfc-b9ad-4769-8c92-a6c4dae69d19",
    "_uuid": "8f2839f25d086af736a60e9eeb907d3b93b6e0e5",
    "execution": {
     "iopub.execute_input": "2025-04-25T12:35:00.524380Z",
     "iopub.status.busy": "2025-04-25T12:35:00.524022Z",
     "iopub.status.idle": "2025-04-25T12:35:00.528552Z",
     "shell.execute_reply": "2025-04-25T12:35:00.527527Z",
     "shell.execute_reply.started": "2025-04-25T12:35:00.524351Z"
    },
    "trusted": true
   },
   "outputs": [],
   "source": [
    "import pandas as pd"
   ]
  },
  {
   "cell_type": "code",
   "execution_count": 7,
   "metadata": {
    "execution": {
     "iopub.execute_input": "2025-04-25T12:35:00.530427Z",
     "iopub.status.busy": "2025-04-25T12:35:00.530042Z",
     "iopub.status.idle": "2025-04-25T12:35:00.571273Z",
     "shell.execute_reply": "2025-04-25T12:35:00.570281Z",
     "shell.execute_reply.started": "2025-04-25T12:35:00.530380Z"
    },
    "trusted": true
   },
   "outputs": [],
   "source": [
    "alex_prices_5y = pd.read_csv(\"/kaggle/input/alex-areas/Alexandria Areas - 5Y.csv\")\n",
    "alex_prices_5y.loc[alex_prices_5y[\"Area\"] == \"Hay Sharq\", \"Area\"] = \"hay-sharq\"\n",
    "\n",
    "def clean_prices(price):\n",
    "    return price.replace(',', '').split(\" \")[1] if (len(price.split(\" \")) > 1) else 0\n",
    "years = alex_prices_5y.columns[2:]\n",
    "for year in years:\n",
    "    alex_prices_5y[year] = alex_prices_5y[year].apply(clean_prices)\n",
    "    alex_prices_5y[year] = alex_prices_5y[year].astype(int)"
   ]
  },
  {
   "cell_type": "code",
   "execution_count": 8,
   "metadata": {
    "execution": {
     "iopub.execute_input": "2025-04-25T12:35:00.573397Z",
     "iopub.status.busy": "2025-04-25T12:35:00.573058Z",
     "iopub.status.idle": "2025-04-25T12:35:00.584812Z",
     "shell.execute_reply": "2025-04-25T12:35:00.583809Z",
     "shell.execute_reply.started": "2025-04-25T12:35:00.573362Z"
    },
    "trusted": true
   },
   "outputs": [],
   "source": [
    "alex_prices_2y = pd.read_csv(\"/kaggle/input/alex-areas/Alexandria Areas - 2Y.csv\")\n",
    "\n",
    "def clean_prices(price):\n",
    "    return price.replace(',', '').split(\" \")[1] if (len(price.split(\" \")) > 1) else 0\n",
    "years = alex_prices_2y.columns[2:]\n",
    "for year in years:\n",
    "    alex_prices_2y[year] = alex_prices_2y[year].apply(clean_prices)\n",
    "    alex_prices_2y[year] = alex_prices_2y[year].astype(int)"
   ]
  },
  {
   "cell_type": "code",
   "execution_count": 9,
   "metadata": {
    "execution": {
     "iopub.execute_input": "2025-04-25T12:35:00.586694Z",
     "iopub.status.busy": "2025-04-25T12:35:00.586335Z",
     "iopub.status.idle": "2025-04-25T12:35:00.606101Z",
     "shell.execute_reply": "2025-04-25T12:35:00.605048Z",
     "shell.execute_reply.started": "2025-04-25T12:35:00.586659Z"
    },
    "trusted": true
   },
   "outputs": [],
   "source": [
    "alex_prices_1y = pd.read_csv(\"/kaggle/input/alex-areas/Alexandria Areas - 1Y.csv\")\n",
    "\n",
    "def clean_prices(price):\n",
    "    return price.replace(',', '').split(\" \")[1] if (len(price.split(\" \")) > 1) else 0\n",
    "years = alex_prices_1y.columns[2:]\n",
    "for year in years:\n",
    "    alex_prices_1y[year] = alex_prices_1y[year].apply(clean_prices)\n",
    "    alex_prices_1y[year] = alex_prices_1y[year].astype(int)"
   ]
  },
  {
   "cell_type": "code",
   "execution_count": 10,
   "metadata": {
    "execution": {
     "iopub.execute_input": "2025-04-25T12:35:00.607343Z",
     "iopub.status.busy": "2025-04-25T12:35:00.607055Z",
     "iopub.status.idle": "2025-04-25T12:35:00.626183Z",
     "shell.execute_reply": "2025-04-25T12:35:00.625154Z",
     "shell.execute_reply.started": "2025-04-25T12:35:00.607311Z"
    },
    "trusted": true
   },
   "outputs": [],
   "source": [
    "alex_prices_5y = alex_prices_5y[alex_prices_5y[\"Bedrooms No.\"] > 1]\n",
    "alex_prices_5y = alex_prices_5y[alex_prices_5y[\"Bedrooms No.\"] < 4]\n",
    "\n",
    "alex_prices_2y = alex_prices_2y[alex_prices_2y[\"Bedrooms No.\"] > 1]\n",
    "alex_prices_2y = alex_prices_2y[alex_prices_2y[\"Bedrooms No.\"] < 4]\n",
    "\n",
    "alex_prices_1y = alex_prices_1y[alex_prices_1y[\"Bedrooms No.\"] > 1]\n",
    "alex_prices_1y = alex_prices_1y[alex_prices_1y[\"Bedrooms No.\"] < 4]"
   ]
  },
  {
   "cell_type": "code",
   "execution_count": 11,
   "metadata": {
    "execution": {
     "iopub.execute_input": "2025-04-25T12:35:00.627525Z",
     "iopub.status.busy": "2025-04-25T12:35:00.627194Z",
     "iopub.status.idle": "2025-04-25T12:35:00.833830Z",
     "shell.execute_reply": "2025-04-25T12:35:00.832763Z",
     "shell.execute_reply.started": "2025-04-25T12:35:00.627489Z"
    },
    "trusted": true
   },
   "outputs": [
    {
     "name": "stdout",
     "output_type": "stream",
     "text": [
      "hay-awal-el-montazah-time-series.csv Saved\n",
      "alexandria-compounds-time-series.csv Saved\n",
      "hay-sharq-time-series.csv Saved\n",
      "hay-wasat-time-series.csv Saved\n",
      "hay-than-el-montazah-time-series.csv Saved\n",
      "hay-al-agami-time-series.csv Saved\n",
      "hay-gharb-time-series.csv Saved\n",
      "hay-el-gomrok-time-series.csv Saved\n",
      "hay-al-amereyah-time-series.csv Saved\n"
     ]
    }
   ],
   "source": [
    "years_5 = alex_prices_5y.columns[2:]\n",
    "years_2 = alex_prices_2y.columns[2:]\n",
    "years_1 = alex_prices_1y.columns[2:]\n",
    "areas = list(set(alex_prices_5y[\"Area\"]))\n",
    "areas_df_list = []\n",
    "for area in areas:\n",
    "    # 5 years prices\n",
    "    alex_prices_5y_recent = alex_prices_5y[alex_prices_5y[\"Area\"] == area].T.loc[years_5]\n",
    "    alex_prices_5y_recent_mean = alex_prices_5y_recent.T.mean().reset_index()\n",
    "    \n",
    "    alex_prices_5y_recent_mean.columns = [\"Date\", \"Price Per Meter\"]\n",
    "    # alex_prices_5y_recent_mean = alex_prices_5y_recent_mean.iloc[:2]\n",
    "    alex_prices_5y_recent_mean = alex_prices_5y_recent_mean.drop_duplicates(subset=[\"Price Per Meter\"], keep='last')\n",
    "    alex_prices_5y_recent_mean['Date'] = alex_prices_5y_recent_mean['Date'].astype(str) + 'Q4'\n",
    "    alex_prices_5y_recent_mean = alex_prices_5y_recent_mean.rename(columns={alex_prices_5y_recent_mean.columns[1]: 'Price Per Meter'})\n",
    "    \n",
    "    # 2 years prices\n",
    "    alex_prices_2y_recent = alex_prices_2y[alex_prices_2y[\"Area\"] == area].T.loc[years_2]\n",
    "    alex_prices_2y_recent_mean = alex_prices_2y_recent.T.mean().reset_index()\n",
    "    alex_prices_2y_recent_mean.columns = [\"Date\", \"Price Per Meter\"]\n",
    "    alex_prices_2y_recent_mean['Date'] = pd.to_datetime(alex_prices_2y_recent_mean['Date'], format='%b %Y')\n",
    "    alex_prices_2y_recent_mean_q = alex_prices_2y_recent_mean.groupby(alex_prices_2y_recent_mean['Date'].dt.to_period('Q').astype(str))['Price Per Meter'].mean().reset_index()\n",
    "\n",
    "    # 1 year prices\n",
    "    alex_prices_1y_recent = alex_prices_1y[alex_prices_1y[\"Area\"] == area].T.loc[years_1]\n",
    "    alex_prices_1y_recent_mean = alex_prices_1y_recent.T.mean().reset_index()\n",
    "    alex_prices_1y_recent_mean.columns = [\"Date\", \"Price Per Meter\"]\n",
    "    alex_prices_1y_recent_mean['Date'] = pd.to_datetime(alex_prices_1y_recent_mean['Date'], format='%b %Y')\n",
    "    alex_prices_1y_recent_mean_q = alex_prices_1y_recent_mean.groupby(alex_prices_1y_recent_mean['Date'].dt.to_period('Q').astype(str))['Price Per Meter'].mean().reset_index()\n",
    "    \n",
    "    area_prices = pd.concat([alex_prices_2y_recent_mean_q, alex_prices_5y_recent_mean], axis=0)\n",
    "    area_prices = pd.concat([area_prices, alex_prices_1y_recent_mean_q], axis=0)\n",
    "\n",
    "    area_prices_sorted = area_prices.sort_values(by='Price Per Meter', na_position='last')\n",
    "    area_prices = area_prices_sorted.drop_duplicates(subset=['Date'], keep='first')\n",
    "    area_prices = area_prices.sort_values(by='Date').reset_index(drop = True)\n",
    "    area_prices = area_prices.rename(columns={area_prices.columns[1]: area})\n",
    "    area_prices = pd.DataFrame({area: area_prices[area], \"Date\": area_prices[\"Date\"]})\n",
    "    areas_df_list.append(area_prices)\n",
    "    area_prices_path = area + \"-time-series.csv\"\n",
    "    area_prices.to_csv(area_prices_path)\n",
    "    print(area_prices_path + \" Saved\")"
   ]
  },
  {
   "cell_type": "code",
   "execution_count": 12,
   "metadata": {
    "execution": {
     "iopub.execute_input": "2025-04-25T12:35:00.836620Z",
     "iopub.status.busy": "2025-04-25T12:35:00.836323Z",
     "iopub.status.idle": "2025-04-25T12:35:00.843991Z",
     "shell.execute_reply": "2025-04-25T12:35:00.842851Z",
     "shell.execute_reply.started": "2025-04-25T12:35:00.836594Z"
    },
    "trusted": true
   },
   "outputs": [],
   "source": [
    "alex_prices = pd.concat(areas_df_list, axis=1)\n",
    "\n",
    "alex_prices = alex_prices.loc[:, ~alex_prices.columns.duplicated()]"
   ]
  },
  {
   "cell_type": "code",
   "execution_count": 13,
   "metadata": {
    "execution": {
     "iopub.execute_input": "2025-04-25T12:35:00.845941Z",
     "iopub.status.busy": "2025-04-25T12:35:00.845558Z",
     "iopub.status.idle": "2025-04-25T12:35:00.862817Z",
     "shell.execute_reply": "2025-04-25T12:35:00.861603Z",
     "shell.execute_reply.started": "2025-04-25T12:35:00.845910Z"
    },
    "trusted": true
   },
   "outputs": [],
   "source": [
    "areas = alex_prices.drop([\"Date\"], axis=1).columns"
   ]
  },
  {
   "cell_type": "code",
   "execution_count": 14,
   "metadata": {
    "execution": {
     "iopub.execute_input": "2025-04-25T12:35:00.864272Z",
     "iopub.status.busy": "2025-04-25T12:35:00.863903Z",
     "iopub.status.idle": "2025-04-25T12:35:00.888718Z",
     "shell.execute_reply": "2025-04-25T12:35:00.887599Z",
     "shell.execute_reply.started": "2025-04-25T12:35:00.864237Z"
    },
    "trusted": true
   },
   "outputs": [],
   "source": [
    "macro = pd.read_csv(\"/kaggle/input/dat-macro-data/macroeconomics.csv\", index_col=0)"
   ]
  },
  {
   "cell_type": "code",
   "execution_count": null,
   "metadata": {
    "execution": {
     "iopub.execute_input": "2025-04-25T12:35:00.890320Z",
     "iopub.status.busy": "2025-04-25T12:35:00.889957Z",
     "iopub.status.idle": "2025-04-25T12:35:01.814937Z",
     "shell.execute_reply": "2025-04-25T12:35:01.813952Z",
     "shell.execute_reply.started": "2025-04-25T12:35:00.890289Z"
    },
    "trusted": true
   },
   "outputs": [],
   "source": [
    "from sklearn.experimental import enable_iterative_imputer\n",
    "from sklearn.impute import IterativeImputer\n",
    "from sklearn.linear_model import BayesianRidge\n",
    "import numpy as np\n",
    "\n",
    "def impute_data(data):\n",
    "    imp = IterativeImputer(max_iter=50, random_state=0)\n",
    "    X = data.drop('Date', axis=1)\n",
    "    prices_imputed = pd.DataFrame(imp.fit_transform(X), columns=X.columns)\n",
    "    \n",
    "    prices_imputed = np.clip(prices_imputed, 0, None)\n",
    "    \n",
    "    prices_imputed[\"Date\"] = data[\"Date\"]\n",
    "    return prices_imputed"
   ]
  },
  {
   "cell_type": "code",
   "execution_count": 16,
   "metadata": {
    "execution": {
     "iopub.execute_input": "2025-04-25T12:35:01.816224Z",
     "iopub.status.busy": "2025-04-25T12:35:01.815814Z",
     "iopub.status.idle": "2025-04-25T12:35:01.835752Z",
     "shell.execute_reply": "2025-04-25T12:35:01.834564Z",
     "shell.execute_reply.started": "2025-04-25T12:35:01.816199Z"
    },
    "trusted": true
   },
   "outputs": [],
   "source": [
    "pd.merge(alex_prices, macro, on='Date', how='outer').drop_duplicates(subset=[\"Date\"]).reset_index(drop=True).to_csv(\"ppm_missing.csv\")"
   ]
  },
  {
   "cell_type": "code",
   "execution_count": 17,
   "metadata": {
    "execution": {
     "iopub.execute_input": "2025-04-25T12:35:01.837280Z",
     "iopub.status.busy": "2025-04-25T12:35:01.836911Z",
     "iopub.status.idle": "2025-04-25T12:35:01.855448Z",
     "shell.execute_reply": "2025-04-25T12:35:01.854444Z",
     "shell.execute_reply.started": "2025-04-25T12:35:01.837244Z"
    },
    "trusted": true
   },
   "outputs": [],
   "source": [
    "missing = pd.merge(alex_prices, macro, on='Date', how='outer').drop_duplicates(subset=[\"Date\"]).reset_index(drop=True)"
   ]
  },
  {
   "cell_type": "code",
   "execution_count": 18,
   "metadata": {
    "execution": {
     "iopub.execute_input": "2025-04-25T12:35:01.857023Z",
     "iopub.status.busy": "2025-04-25T12:35:01.856661Z",
     "iopub.status.idle": "2025-04-25T12:35:01.877164Z",
     "shell.execute_reply": "2025-04-25T12:35:01.876056Z",
     "shell.execute_reply.started": "2025-04-25T12:35:01.856985Z"
    },
    "trusted": true
   },
   "outputs": [],
   "source": [
    "alex_prices[\"hay-gharb\"] = alex_prices[['hay-gharb', 'hay-el-gomrok', 'hay-al-agami']].mean(axis=1)\n",
    "alex_prices[\"hay-sharq\"] = alex_prices[['hay-sharq', 'hay-awal-el-montazah', \"hay-than-el-montazah\", 'hay-wasat', \"hay-el-gomrok\"]].mean(axis=1)\n",
    "alex_prices['hay-al-amereyah'] = alex_prices[['hay-al-amereyah', 'hay-al-agami', \"hay-gharb\", \"hay-awal-el-montazah\"]].mean(axis=1)\n",
    "alex_prices['hay-than-el-montazah'] = alex_prices[['hay-than-el-montazah', \"hay-awal-el-montazah\"]].mean(axis=1)"
   ]
  },
  {
   "cell_type": "code",
   "execution_count": 19,
   "metadata": {
    "execution": {
     "iopub.execute_input": "2025-04-25T12:35:01.878556Z",
     "iopub.status.busy": "2025-04-25T12:35:01.878198Z",
     "iopub.status.idle": "2025-04-25T12:35:02.152359Z",
     "shell.execute_reply": "2025-04-25T12:35:02.151212Z",
     "shell.execute_reply.started": "2025-04-25T12:35:01.878523Z"
    },
    "trusted": true
   },
   "outputs": [
    {
     "name": "stderr",
     "output_type": "stream",
     "text": [
      "<ipython-input-19-b6948981c397>:6: FutureWarning: Downcasting behavior in `replace` is deprecated and will be removed in a future version. To retain the old behavior, explicitly call `result.infer_objects(copy=False)`. To opt-in to the future behavior, set `pd.set_option('future.no_silent_downcasting', True)`\n",
      "  alex_prices_to_impute = alex_prices[[area, \"Date\"]].replace(0, np.nan)\n"
     ]
    }
   ],
   "source": [
    "import numpy as np\n",
    "alex_ppm = pd.read_csv(\"/kaggle/input/ppm-alex/price_per_meter_2017_2024_v2.csv\", index_col=0)\n",
    "areas_df = []\n",
    "date = []\n",
    "for area in areas:\n",
    "    alex_prices_to_impute = alex_prices[[area, \"Date\"]].replace(0, np.nan)\n",
    "    areas_macro = pd.merge(alex_prices_to_impute, macro, on='Date', how='outer').drop_duplicates(subset=[\"Date\"]).reset_index(drop=True)\n",
    "    areas_macro = pd.merge(areas_macro, alex_ppm, on=\"Date\", how=\"outer\")\n",
    "    prices_imputed = impute_data(areas_macro)\n",
    "    areas_df.append(pd.Series(list(prices_imputed[area]), name=area))\n",
    "    date = prices_imputed[\"Date\"]"
   ]
  },
  {
   "cell_type": "code",
   "execution_count": 20,
   "metadata": {
    "execution": {
     "iopub.execute_input": "2025-04-25T12:35:02.153840Z",
     "iopub.status.busy": "2025-04-25T12:35:02.153451Z",
     "iopub.status.idle": "2025-04-25T12:35:02.160680Z",
     "shell.execute_reply": "2025-04-25T12:35:02.159518Z",
     "shell.execute_reply.started": "2025-04-25T12:35:02.153794Z"
    },
    "trusted": true
   },
   "outputs": [],
   "source": [
    "combined_df = pd.concat(areas_df, axis=1)\n",
    "combined_df[\"Date\"] = date\n",
    "combined_df.loc[:15, \"hay-el-gomrok\"] = 0"
   ]
  },
  {
   "cell_type": "code",
   "execution_count": 21,
   "metadata": {
    "execution": {
     "iopub.execute_input": "2025-04-25T12:35:02.162048Z",
     "iopub.status.busy": "2025-04-25T12:35:02.161697Z",
     "iopub.status.idle": "2025-04-25T12:35:02.182140Z",
     "shell.execute_reply": "2025-04-25T12:35:02.180979Z",
     "shell.execute_reply.started": "2025-04-25T12:35:02.162014Z"
    },
    "trusted": true
   },
   "outputs": [],
   "source": [
    "combined_df.loc[:15, \"hay-el-gomrok\"] = combined_df.iloc[:16][['hay-el-gomrok', 'hay-wasat', \"hay-gharb\"]].mean(axis=1)"
   ]
  },
  {
   "cell_type": "code",
   "execution_count": 22,
   "metadata": {
    "execution": {
     "iopub.execute_input": "2025-04-25T12:35:02.183598Z",
     "iopub.status.busy": "2025-04-25T12:35:02.183219Z",
     "iopub.status.idle": "2025-04-25T12:35:02.200867Z",
     "shell.execute_reply": "2025-04-25T12:35:02.199687Z",
     "shell.execute_reply.started": "2025-04-25T12:35:02.183562Z"
    },
    "trusted": true
   },
   "outputs": [],
   "source": [
    "combined_df.to_csv(\"ppm_2017_2024_areas_final_v3.csv\")"
   ]
  },
  {
   "cell_type": "code",
   "execution_count": 23,
   "metadata": {
    "execution": {
     "iopub.execute_input": "2025-04-25T12:35:02.202175Z",
     "iopub.status.busy": "2025-04-25T12:35:02.201894Z",
     "iopub.status.idle": "2025-04-25T12:35:02.672606Z",
     "shell.execute_reply": "2025-04-25T12:35:02.671574Z",
     "shell.execute_reply.started": "2025-04-25T12:35:02.202151Z"
    },
    "trusted": true
   },
   "outputs": [
    {
     "data": {
      "text/plain": [
       "<matplotlib.legend.Legend at 0x7d9a5e4ade70>"
      ]
     },
     "execution_count": 23,
     "metadata": {},
     "output_type": "execute_result"
    },
    {
     "data": {
      "image/png": "[encoded data removed]",
      "text/plain": [
       "<Figure size 640x480 with 1 Axes>"
      ]
     },
     "metadata": {},
     "output_type": "display_data"
    }
   ],
   "source": [
    "import matplotlib.pyplot as plt\n",
    "\n",
    "# Plot both lines\n",
    "combined_df[\"Date\"] = combined_df[\"Date\"].astype(str)\n",
    "plt.plot(combined_df[\"Date\"], combined_df[\"hay-al-amereyah\"], label='PPM', color='blue')\n",
    "plt.plot(combined_df[\"Date\"], combined_df[\"hay-al-agami\"], label='PPM', color='red')\n",
    "\n",
    "# Add labels and title\n",
    "plt.xlabel('Date')\n",
    "plt.ylabel('Value')\n",
    "plt.xticks(rotation=90)\n",
    "\n",
    "# Add legend\n",
    "plt.legend()"
   ]
  },
  {
   "cell_type": "code",
   "execution_count": 24,
   "metadata": {
    "execution": {
     "iopub.execute_input": "2025-04-25T12:35:02.676738Z",
     "iopub.status.busy": "2025-04-25T12:35:02.676390Z",
     "iopub.status.idle": "2025-04-25T12:35:02.720103Z",
     "shell.execute_reply": "2025-04-25T12:35:02.719136Z",
     "shell.execute_reply.started": "2025-04-25T12:35:02.676709Z"
    },
    "trusted": true
   },
   "outputs": [
    {
     "data": {
      "text/html": [
       "<div>\n",
       "<style scoped>\n",
       "    .dataframe tbody tr th:only-of-type {\n",
       "        vertical-align: middle;\n",
       "    }\n",
       "\n",
       "    .dataframe tbody tr th {\n",
       "        vertical-align: top;\n",
       "    }\n",
       "\n",
       "    .dataframe thead th {\n",
       "        text-align: right;\n",
       "    }\n",
       "</style>\n",
       "<table border=\"1\" class=\"dataframe\">\n",
       "  <thead>\n",
       "    <tr style=\"text-align: right;\">\n",
       "      <th></th>\n",
       "      <th>hay-awal-el-montazah</th>\n",
       "      <th>alexandria-compounds</th>\n",
       "      <th>hay-sharq</th>\n",
       "      <th>hay-wasat</th>\n",
       "      <th>hay-than-el-montazah</th>\n",
       "      <th>hay-al-agami</th>\n",
       "      <th>hay-gharb</th>\n",
       "      <th>hay-el-gomrok</th>\n",
       "      <th>hay-al-amereyah</th>\n",
       "    </tr>\n",
       "  </thead>\n",
       "  <tbody>\n",
       "    <tr>\n",
       "      <th>count</th>\n",
       "      <td>32.000000</td>\n",
       "      <td>32.000000</td>\n",
       "      <td>32.000000</td>\n",
       "      <td>32.000000</td>\n",
       "      <td>32.000000</td>\n",
       "      <td>32.000000</td>\n",
       "      <td>32.000000</td>\n",
       "      <td>32.000000</td>\n",
       "      <td>32.000000</td>\n",
       "    </tr>\n",
       "    <tr>\n",
       "      <th>mean</th>\n",
       "      <td>8987.863698</td>\n",
       "      <td>23179.568851</td>\n",
       "      <td>11439.979316</td>\n",
       "      <td>13535.731627</td>\n",
       "      <td>10546.012486</td>\n",
       "      <td>5357.792509</td>\n",
       "      <td>12136.925300</td>\n",
       "      <td>10969.447977</td>\n",
       "      <td>9069.960133</td>\n",
       "    </tr>\n",
       "    <tr>\n",
       "      <th>std</th>\n",
       "      <td>2705.159079</td>\n",
       "      <td>4863.588519</td>\n",
       "      <td>3600.141763</td>\n",
       "      <td>3163.389078</td>\n",
       "      <td>2113.328148</td>\n",
       "      <td>2249.114426</td>\n",
       "      <td>3217.251304</td>\n",
       "      <td>6214.214758</td>\n",
       "      <td>3401.086550</td>\n",
       "    </tr>\n",
       "    <tr>\n",
       "      <th>min</th>\n",
       "      <td>5703.845698</td>\n",
       "      <td>18572.486993</td>\n",
       "      <td>6980.913887</td>\n",
       "      <td>9656.479335</td>\n",
       "      <td>8188.085208</td>\n",
       "      <td>1874.659945</td>\n",
       "      <td>8050.278696</td>\n",
       "      <td>5902.252677</td>\n",
       "      <td>4702.101849</td>\n",
       "    </tr>\n",
       "    <tr>\n",
       "      <th>25%</th>\n",
       "      <td>6832.864925</td>\n",
       "      <td>20257.612490</td>\n",
       "      <td>8747.990589</td>\n",
       "      <td>10988.357356</td>\n",
       "      <td>9012.681818</td>\n",
       "      <td>3667.913360</td>\n",
       "      <td>9454.962596</td>\n",
       "      <td>6949.125080</td>\n",
       "      <td>6284.853947</td>\n",
       "    </tr>\n",
       "    <tr>\n",
       "      <th>50%</th>\n",
       "      <td>8516.477125</td>\n",
       "      <td>21319.617868</td>\n",
       "      <td>10497.941451</td>\n",
       "      <td>13118.752703</td>\n",
       "      <td>10109.500000</td>\n",
       "      <td>5096.184247</td>\n",
       "      <td>11668.771995</td>\n",
       "      <td>7481.824091</td>\n",
       "      <td>8149.498957</td>\n",
       "    </tr>\n",
       "    <tr>\n",
       "      <th>75%</th>\n",
       "      <td>10450.000000</td>\n",
       "      <td>24005.188559</td>\n",
       "      <td>13277.574581</td>\n",
       "      <td>15661.525156</td>\n",
       "      <td>11373.821701</td>\n",
       "      <td>6835.375000</td>\n",
       "      <td>14309.458333</td>\n",
       "      <td>14623.066632</td>\n",
       "      <td>11348.947917</td>\n",
       "    </tr>\n",
       "    <tr>\n",
       "      <th>max</th>\n",
       "      <td>15758.000000</td>\n",
       "      <td>38432.000000</td>\n",
       "      <td>20215.875000</td>\n",
       "      <td>22102.500000</td>\n",
       "      <td>16915.000000</td>\n",
       "      <td>9651.000000</td>\n",
       "      <td>18407.166667</td>\n",
       "      <td>24931.000000</td>\n",
       "      <td>15979.687500</td>\n",
       "    </tr>\n",
       "  </tbody>\n",
       "</table>\n",
       "</div>"
      ],
      "text/plain": [
       "       hay-awal-el-montazah  alexandria-compounds     hay-sharq     hay-wasat  \\\n",
       "count             32.000000             32.000000     32.000000     32.000000   \n",
       "mean            8987.863698          23179.568851  11439.979316  13535.731627   \n",
       "std             2705.159079           4863.588519   3600.141763   3163.389078   \n",
       "min             5703.845698          18572.486993   6980.913887   9656.479335   \n",
       "25%             6832.864925          20257.612490   8747.990589  10988.357356   \n",
       "50%             8516.477125          21319.617868  10497.941451  13118.752703   \n",
       "75%            10450.000000          24005.188559  13277.574581  15661.525156   \n",
       "max            15758.000000          38432.000000  20215.875000  22102.500000   \n",
       "\n",
       "       hay-than-el-montazah  hay-al-agami     hay-gharb  hay-el-gomrok  \\\n",
       "count             32.000000     32.000000     32.000000      32.000000   \n",
       "mean           10546.012486   5357.792509  12136.925300   10969.447977   \n",
       "std             2113.328148   2249.114426   3217.251304    6214.214758   \n",
       "min             8188.085208   1874.659945   8050.278696    5902.252677   \n",
       "25%             9012.681818   3667.913360   9454.962596    6949.125080   \n",
       "50%            10109.500000   5096.184247  11668.771995    7481.824091   \n",
       "75%            11373.821701   6835.375000  14309.458333   14623.066632   \n",
       "max            16915.000000   9651.000000  18407.166667   24931.000000   \n",
       "\n",
       "       hay-al-amereyah  \n",
       "count        32.000000  \n",
       "mean       9069.960133  \n",
       "std        3401.086550  \n",
       "min        4702.101849  \n",
       "25%        6284.853947  \n",
       "50%        8149.498957  \n",
       "75%       11348.947917  \n",
       "max       15979.687500  "
      ]
     },
     "execution_count": 24,
     "metadata": {},
     "output_type": "execute_result"
    }
   ],
   "source": [
    "combined_df.describe()"
   ]
  },
  {
   "cell_type": "code",
   "execution_count": 25,
   "metadata": {
    "execution": {
     "iopub.execute_input": "2025-04-25T12:35:02.722049Z",
     "iopub.status.busy": "2025-04-25T12:35:02.721707Z",
     "iopub.status.idle": "2025-04-25T12:35:02.727309Z",
     "shell.execute_reply": "2025-04-25T12:35:02.726321Z",
     "shell.execute_reply.started": "2025-04-25T12:35:02.722023Z"
    },
    "trusted": true
   },
   "outputs": [],
   "source": [
    "combined_df = combined_df.set_index(['Date'])"
   ]
  },
  {
   "cell_type": "code",
   "execution_count": 26,
   "metadata": {
    "execution": {
     "iopub.execute_input": "2025-04-25T12:35:02.729094Z",
     "iopub.status.busy": "2025-04-25T12:35:02.728647Z",
     "iopub.status.idle": "2025-04-25T12:35:02.747910Z",
     "shell.execute_reply": "2025-04-25T12:35:02.746728Z",
     "shell.execute_reply.started": "2025-04-25T12:35:02.729057Z"
    },
    "trusted": true
   },
   "outputs": [],
   "source": [
    "combined_df[\"hay-wasat\"] = combined_df[['hay-wasat', 'hay-el-gomrok']].mean(axis=1)"
   ]
  },
  {
   "cell_type": "code",
   "execution_count": null,
   "metadata": {
    "execution": {
     "iopub.status.busy": "2025-04-25T12:35:02.925215Z",
     "iopub.status.idle": "2025-04-25T12:35:02.925584Z",
     "shell.execute_reply": "2025-04-25T12:35:02.925417Z"
    },
    "trusted": true
   },
   "outputs": [],
   "source": [
    "window_size = 5\n",
    "combined_df['hay-al-amereyah'].rolling(window=window_size, center=True).mean()"
   ]
  },
  {
   "cell_type": "code",
   "execution_count": null,
   "metadata": {
    "execution": {
     "iopub.status.busy": "2025-04-25T12:35:02.926492Z",
     "iopub.status.idle": "2025-04-25T12:35:02.926888Z",
     "shell.execute_reply": "2025-04-25T12:35:02.926744Z"
    },
    "trusted": true
   },
   "outputs": [],
   "source": [
    "combined_df.reset_index().to_csv('ppm_2017_2024_areas_final_v8.csv')"
   ]
  },
  {
   "cell_type": "code",
   "execution_count": null,
   "metadata": {
    "execution": {
     "iopub.status.busy": "2025-04-25T12:35:02.928155Z",
     "iopub.status.idle": "2025-04-25T12:35:02.928624Z",
     "shell.execute_reply": "2025-04-25T12:35:02.928392Z"
    },
    "trusted": true
   },
   "outputs": [],
   "source": [
    "import seaborn as sns\n",
    "g = sns.FacetGrid(combined_df, col='Area', col_wrap=4, height=4)\n",
    "g.map(sns.histplot, 'Price Per Meter', kde=True)"
   ]
  },
  {
   "cell_type": "code",
   "execution_count": null,
   "metadata": {
    "execution": {
     "iopub.status.busy": "2025-04-25T12:35:02.929784Z",
     "iopub.status.idle": "2025-04-25T12:35:02.930224Z",
     "shell.execute_reply": "2025-04-25T12:35:02.930036Z"
    },
    "trusted": true
   },
   "outputs": [],
   "source": [
    "sns.boxplot(data=combined_df, x='Area', y='Price Per Meter')\n",
    "plt.xticks(rotation=45)"
   ]
  },
  {
   "cell_type": "code",
   "execution_count": null,
   "metadata": {
    "execution": {
     "iopub.status.busy": "2025-04-25T12:35:02.931125Z",
     "iopub.status.idle": "2025-04-25T12:35:02.931575Z",
     "shell.execute_reply": "2025-04-25T12:35:02.931363Z"
    },
    "trusted": true
   },
   "outputs": [],
   "source": [
    "areas.append(\"Date\")"
   ]
  },
  {
   "cell_type": "code",
   "execution_count": null,
   "metadata": {
    "execution": {
     "iopub.status.busy": "2025-04-25T12:35:02.932239Z",
     "iopub.status.idle": "2025-04-25T12:35:02.932696Z",
     "shell.execute_reply": "2025-04-25T12:35:02.932499Z"
    },
    "trusted": true
   },
   "outputs": [],
   "source": [
    "cols = [\"hay-wasat\", \"Date\", \"hay-awal-el-montazah\"]"
   ]
  },
  {
   "cell_type": "code",
   "execution_count": null,
   "metadata": {
    "execution": {
     "iopub.status.busy": "2025-04-25T12:35:02.933929Z",
     "iopub.status.idle": "2025-04-25T12:35:02.934374Z",
     "shell.execute_reply": "2025-04-25T12:35:02.934183Z"
    },
    "trusted": true
   },
   "outputs": [],
   "source": [
    "prices_imputed = prices_imputed[cols]"
   ]
  },
  {
   "cell_type": "code",
   "execution_count": null,
   "metadata": {
    "execution": {
     "iopub.status.busy": "2025-04-25T12:35:02.935355Z",
     "iopub.status.idle": "2025-04-25T12:35:02.935811Z",
     "shell.execute_reply": "2025-04-25T12:35:02.935622Z"
    },
    "trusted": true
   },
   "outputs": [],
   "source": [
    "prices_imputed"
   ]
  },
  {
   "cell_type": "code",
   "execution_count": null,
   "metadata": {
    "execution": {
     "iopub.status.busy": "2025-04-25T12:35:02.936776Z",
     "iopub.status.idle": "2025-04-25T12:35:02.937142Z",
     "shell.execute_reply": "2025-04-25T12:35:02.936956Z"
    },
    "trusted": true
   },
   "outputs": [],
   "source": [
    "prices_imputed['Date'] = pd.PeriodIndex(prices_imputed['Date'], freq='Q')"
   ]
  },
  {
   "cell_type": "code",
   "execution_count": null,
   "metadata": {
    "execution": {
     "iopub.status.busy": "2025-04-25T12:35:02.938322Z",
     "iopub.status.idle": "2025-04-25T12:35:02.938680Z",
     "shell.execute_reply": "2025-04-25T12:35:02.938546Z"
    },
    "trusted": true
   },
   "outputs": [],
   "source": [
    "import numpy as np\n",
    "\n",
    "prices_imputed.loc[prices_imputed['Date'] < pd.Period('2020Q1', freq='Q'), 'hay-el-gomrok'] = np.nan"
   ]
  },
  {
   "cell_type": "code",
   "execution_count": null,
   "metadata": {
    "execution": {
     "iopub.status.busy": "2025-04-25T12:35:02.939413Z",
     "iopub.status.idle": "2025-04-25T12:35:02.939782Z",
     "shell.execute_reply": "2025-04-25T12:35:02.939655Z"
    },
    "trusted": true
   },
   "outputs": [],
   "source": [
    "prices_imputed.to_csv(\"areas_prices_2017_2024_2areas.csv\")"
   ]
  }
 ],
 "metadata": {
  "kaggle": {
   "accelerator": "none",
   "dataSources": [
    {
     "datasetId": 6825848,
     "sourceId": 10970169,
     "sourceType": "datasetVersion"
    },
    {
     "datasetId": 6870580,
     "sourceId": 11031549,
     "sourceType": "datasetVersion"
    },
    {
     "datasetId": 6883396,
     "sourceId": 11049349,
     "sourceType": "datasetVersion"
    }
   ],
   "dockerImageVersionId": 30918,
   "isGpuEnabled": false,
   "isInternetEnabled": true,
   "language": "python",
   "sourceType": "notebook"
  },
  "kernelspec": {
   "display_name": "Python 3",
   "language": "python",
   "name": "python3"
  },
  "language_info": {
   "codemirror_mode": {
    "name": "ipython",
    "version": 3
   },
   "file_extension": ".py",
   "mimetype": "text/x-python",
   "name": "python",
   "nbconvert_exporter": "python",
   "pygments_lexer": "ipython3",
   "version": "3.10.12"
  }
 },
 "nbformat": 4,
 "nbformat_minor": 4
}
